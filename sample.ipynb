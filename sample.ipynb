{
 "cells": [
  {
   "metadata": {},
   "cell_type": "markdown",
   "source": [
    "# This is a sample Jupyter Notebook\n",
    "\n",
    "Below is an example of a code cell. \n",
    "Put your cursor into the cell and press Shift+Enter to execute it and select the next one, or click 'Run Cell' button.\n",
    "\n",
    "Press Double Shift to search everywhere for classes, files, tool windows, actions, and settings.\n",
    "\n",
    "To learn more about Jupyter Notebooks in PyCharm, see [help](https://www.jetbrains.com/help/pycharm/ipython-notebook-support.html).\n",
    "For an overview of PyCharm, go to Help -> Learn IDE features or refer to [our documentation](https://www.jetbrains.com/help/pycharm/getting-started.html)."
   ],
   "id": "8a77807f92f26ee"
  },
  {
   "metadata": {
    "ExecuteTime": {
     "end_time": "2024-12-26T16:22:24.651401Z",
     "start_time": "2024-12-26T16:22:24.499760Z"
    }
   },
   "cell_type": "code",
   "source": [
    "import matplotlib.pyplot as plt\n",
    "import pandas as pd\n",
    "import numpy as np\n",
    "from ipywidgets import interact, Dropdown\n",
    "from IPython.display import display\n",
    "\n",
    "df = pd.read_csv(\"data/JavaStringConcatenationBenchmarkingData.csv\")\n",
    "\n",
    "df['ErrorRate'] = df['Error'] / df['OPS']\n",
    "df['Effective OPS'] = df['OPS'] * df['Iterations'] * df['Concatenations']\n",
    "\n",
    "functions = np.unique(df['Function'].values)\n",
    "iterations = np.unique(df['Iterations'].values)\n",
    "concatenations = np.unique(df['Concatenations'].values)\n",
    "jvm = np.unique(df['JVM'].values)\n",
    "computer = np.unique(df['Computer'].values)\n",
    "optionChoices = ['Compare Functions', 'Compare Iterations', 'Compare Concatenations']\n",
    "\n",
    "optionsDropdown = Dropdown(options=optionChoices)\n",
    "option1Dropdown = Dropdown()\n",
    "option2Dropdown = Dropdown()\n",
    "\n",
    "functionDropdown = Dropdown(options=functions, description='Wow')\n",
    "iterationDropdown = Dropdown(options=iterations)\n",
    "concatenationDropdown = Dropdown(options=concatenations)\n",
    "\n",
    "@interact(options=optionsDropdown,\n",
    "          option1=option1Dropdown,\n",
    "          option2=option2Dropdown)\n",
    "def wow(options, option1, option2):\n",
    "    #Set options\n",
    "    if options == optionChoices[0]:\n",
    "        option1Dropdown.options = iterations\n",
    "        option1Dropdown.description = 'Iterations'\n",
    "        option2Dropdown.options = concatenations\n",
    "        option2Dropdown.description = 'Concat'\n",
    "    elif options == optionChoices[1]:\n",
    "        option1Dropdown.options = functions\n",
    "        option1Dropdown.description = 'Functions'\n",
    "        option2Dropdown.options = concatenations\n",
    "        option2Dropdown.description = 'Concat'\n",
    "    elif options == optionChoices[2]:\n",
    "        option1Dropdown.options = functions\n",
    "        option1Dropdown.description = 'Functions'\n",
    "        option2Dropdown.options = iterations\n",
    "        option2Dropdown.description = 'Iterations'\n",
    "\n",
    "    #Set Default Values\n",
    "    if options is None:\n",
    "        optionsDropdown.value = optionsDropdown.options[0]\n",
    "        option1Dropdown.value = option1Dropdown.options[0]\n",
    "        option2Dropdown.value = option2Dropdown.options[0]\n",
    "    else:\n",
    "        if option1 is None:\n",
    "            option1Dropdown.value = option1Dropdown.options[0]\n",
    "        if option2 is None:\n",
    "            option2Dropdown.value = option2Dropdown.options[0]\n",
    "\n",
    "    #Plot Graph\n",
    "    if options == optionChoices[0]:\n",
    "        filtered_df = df[df['Iterations'] == option1]\n",
    "        filtered_df = filtered_df[filtered_df['Concatenations'] == option2]\n",
    "        plt.bar(filtered_df['Function'], filtered_df['OPS'] )\n",
    "        plt.show()\n",
    "\n",
    "    elif options == optionChoices[1]:\n",
    "        filtered_df = df[df['Function'] == option1]\n",
    "        filtered_df = filtered_df[filtered_df['Concatenations'] == option2]\n",
    "        graph = plt.plot(filtered_df['Iterations'], filtered_df['Effective OPS'])\n",
    "        graph[0].axes.set_xscale('log')\n",
    "        plt.show()\n",
    "\n",
    "    elif options == optionChoices[2]:\n",
    "        filtered_df = df[df['Function'] == option1]\n",
    "        filtered_df = filtered_df[filtered_df['Iterations'] == option2]\n",
    "        graph = plt.plot(filtered_df['Concatenations'], filtered_df['Effective OPS'])\n",
    "        graph[0].axes.set_xscale('log')\n",
    "        plt.show()\n"
   ],
   "id": "ac47e668c66c1700",
   "outputs": [
    {
     "data": {
      "text/plain": [
       "interactive(children=(Dropdown(description='options', options=('Compare Functions', 'Compare Iterations', 'Com…"
      ],
      "application/vnd.jupyter.widget-view+json": {
       "version_major": 2,
       "version_minor": 0,
       "model_id": "13ab55fe7a8b4fb188d7ca72faa94803"
      }
     },
     "metadata": {},
     "output_type": "display_data"
    }
   ],
   "execution_count": 117
  },
  {
   "metadata": {
    "ExecuteTime": {
     "end_time": "2024-12-26T16:21:54.833715Z",
     "start_time": "2024-12-26T16:21:54.480344Z"
    }
   },
   "cell_type": "code",
   "source": [
    "graph = plt.plot([1,2,3], [1,2,3])\n",
    "thing = graph[0].axes\n",
    "thing.set_xscale('log')\n",
    "plt.show()"
   ],
   "id": "6b8f829f49675c5",
   "outputs": [
    {
     "data": {
      "text/plain": [
       "<Figure size 640x480 with 1 Axes>"
      ],
      "image/png": "[encoded data removed]"
     },
     "metadata": {},
     "output_type": "display_data"
    }
   ],
   "execution_count": 116
  }
 ],
 "metadata": {
  "kernelspec": {
   "display_name": "Python 3",
   "language": "python",
   "name": "python3"
  },
  "language_info": {
   "codemirror_mode": {
    "name": "ipython",
    "version": 2
   },
   "file_extension": ".py",
   "mimetype": "text/x-python",
   "name": "python",
   "nbconvert_exporter": "python",
   "pygments_lexer": "ipython2",
   "version": "2.7.6"
  }
 },
 "nbformat": 4,
 "nbformat_minor": 5
}
